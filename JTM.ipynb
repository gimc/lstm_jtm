{
 "cells": [
  {
   "cell_type": "markdown",
   "metadata": {},
   "source": [
    "First we load the review text..."
   ]
  },
  {
   "cell_type": "code",
   "execution_count": 2,
   "metadata": {
    "collapsed": false,
    "deletable": true,
    "editable": true
   },
   "outputs": [],
   "source": [
    "data = open('./review_text.txt', 'r').read()\n",
    "chars = list(set(data))\n",
    "VOCAB_SIZE = len(chars)"
   ]
  },
  {
   "cell_type": "code",
   "execution_count": null,
   "metadata": {
    "collapsed": true
   },
   "outputs": [],
   "source": []
  },
  {
   "cell_type": "markdown",
   "metadata": {
    "collapsed": true,
    "deletable": true,
    "editable": true
   },
   "source": [
    "Next we create two dictionaries for mapping the examples to features and vice-versa:"
   ]
  },
  {
   "cell_type": "code",
   "execution_count": 3,
   "metadata": {
    "collapsed": false
   },
   "outputs": [],
   "source": [
    "ix_to_char = {ix:char for ix, char in enumerate(chars)}\n",
    "char_to_ix = {char:ix for ix, char in enumerate(chars)}"
   ]
  },
  {
   "cell_type": "code",
   "execution_count": 4,
   "metadata": {
    "collapsed": false
   },
   "outputs": [],
   "source": [
    "import numpy as np\n",
    "\n",
    "seq_length = 50\n",
    "X = np.zeros((len(data)/seq_length, seq_length, VOCAB_SIZE))\n",
    "y = np.zeros((len(data)/seq_length, seq_length, VOCAB_SIZE))\n",
    "for i in range(0, len(data)/seq_length):\n",
    "    X_sequence = data[i*seq_length:(i+1)*seq_length]\n",
    "    X_sequence_ix = [char_to_ix[value] for value in X_sequence]\n",
    "    input_sequence = np.zeros((seq_length, VOCAB_SIZE))\n",
    "    for j in range(seq_length):\n",
    "        input_sequence[j][X_sequence_ix[j]] = 1.\n",
    "        X[i] = input_sequence\n",
    "        \n",
    "    y_sequence = data[i*seq_length+1:(i+1)*seq_length+1]\n",
    "    y_sequence_ix = [char_to_ix[value] for value in y_sequence]\n",
    "    target_sequence = np.zeros((seq_length, VOCAB_SIZE))\n",
    "    for j in range(seq_length):\n",
    "        target_sequence[j][y_sequence_ix[j]] = 1.\n",
    "        y[i] = target_sequence\n",
    "       \n"
   ]
  },
  {
   "cell_type": "markdown",
   "metadata": {},
   "source": [
    "Now it's learnin' time :-)"
   ]
  },
  {
   "cell_type": "code",
   "execution_count": 5,
   "metadata": {
    "collapsed": false
   },
   "outputs": [
    {
     "name": "stderr",
     "output_type": "stream",
     "text": [
      "Using TensorFlow backend.\n"
     ]
    }
   ],
   "source": [
    "from keras.models import Sequential\n",
    "from keras.layers.core import Dense, Activation, Dropout\n",
    "from keras.layers.recurrent import LSTM, SimpleRNN\n",
    "from keras.layers.wrappers import TimeDistributed\n",
    "\n",
    "model = Sequential()\n",
    "hidden_dim = 500\n",
    "layer_num = 2\n",
    "\n",
    "model.add(LSTM(hidden_dim, input_shape=(None, VOCAB_SIZE), return_sequences=True))\n",
    "for i in range(layer_num - 1):\n",
    "    model.add(LSTM(hidden_dim, return_sequences=True))\n",
    "model.add(TimeDistributed(Dense(VOCAB_SIZE)))\n",
    "model.add(Activation('softmax'))\n",
    "model.compile(loss=\"categorical_crossentropy\", optimizer=\"rmsprop\")"
   ]
  },
  {
   "cell_type": "markdown",
   "metadata": {},
   "source": [
    "Before we go further, a function for generating text given the model"
   ]
  },
  {
   "cell_type": "code",
   "execution_count": 8,
   "metadata": {
    "collapsed": false
   },
   "outputs": [],
   "source": [
    "def generate_text(model, length, vocab_size, ix_to_char):\n",
    "    # start with a random character\n",
    "    ix = [np.random.randint(vocab_size)]\n",
    "    y_char = [ix_to_char[ix[-1]]]\n",
    "    X = np.zeros((1, length, vocab_size))\n",
    "    for i in range(length):\n",
    "        # appending the last predicted character to sequence\n",
    "        X[0, i, :][ix[-1]] = 1\n",
    "        print ix_to_char[ix[-1]],\n",
    "        ix = np.argmax(model.predict(X[:, :i+1, :])[0], 1)\n",
    "        y_char.append(ix_to_char[ix[-1]])\n",
    "    return ('').join(y_char)"
   ]
  },
  {
   "cell_type": "markdown",
   "metadata": {},
   "source": [
    "Let's see how bad our untrained model is"
   ]
  },
  {
   "cell_type": "code",
   "execution_count": 9,
   "metadata": {
    "collapsed": false
   },
   "outputs": [
    {
     "name": "stdout",
     "output_type": "stream",
     "text": [
      "S c d d b d b n n D o o o . . m a a a a W W W W W W W W W W W W W W W W b W W W W W W W W W W W W b W W W W W W W W W W W W b W W W W W W W W W W W W b W W W W W W W W W W W W b W W W W W W W W W W W W b W W W W W W W W W W W W b W W W W W W W W W W W W b W W W W W W W W W W W W b W W W W W W W W W W W W b W W W W W W W W W W W W b W W W W W W W W W W W W b W W W W W W W W W W W W b W W W W W W W W W W W W b W W W W W W W W W W W W b W W W W W W W W W W W W b W W W W W W W W W W W W b W W W W W W W W W W W W b W W W W W W W W W W W W b W W W W W W W W W W W W b W W W W W W W W W W W W b W W W W W W W W W W W W b W W W W W W W W W W W W b W W W W W W W W W W W W b W W W W W W W W W W W W b W W W W W W W W W W W W b W W W W W W W W W W W W b W W W W W W W W W W W W b W W W W W W W W W W W W b W W W W W W W W W W W W b W W W W W W W W W W W W b W W W W W W W W W W W W b W W W W W W W W W W W W b W W W W W W W W W W W W b W W W W W W W W W W W W b W W W W W W W W W W W W b W W W W W W W W ScddbdbnnDooo..maaaaWWWWWWWWWWWWWWWWbWWWWWWWWWWWWbWWWWWWWWWWWWbWWWWWWWWWWWWbWWWWWWWWWWWWbWWWWWWWWWWWWbWWWWWWWWWWWWbWWWWWWWWWWWWbWWWWWWWWWWWWbWWWWWWWWWWWWbWWWWWWWWWWWWbWWWWWWWWWWWWbWWWWWWWWWWWWbWWWWWWWWWWWWbWWWWWWWWWWWWbWWWWWWWWWWWWbWWWWWWWWWWWWbWWWWWWWWWWWWbWWWWWWWWWWWWbWWWWWWWWWWWWbWWWWWWWWWWWWbWWWWWWWWWWWWbWWWWWWWWWWWWbWWWWWWWWWWWWbWWWWWWWWWWWWbWWWWWWWWWWWWbWWWWWWWWWWWWbWWWWWWWWWWWWbWWWWWWWWWWWWbWWWWWWWWWWWWbWWWWWWWWWWWWbWWWWWWWWWWWWbWWWWWWWWWWWWbWWWWWWWWWWWWbWWWWWWWWWWWWbWWWWWWWWWWWWbWWWWWWWWW\n"
     ]
    }
   ],
   "source": [
    "generate_length = 500\n",
    "\n",
    "print(generate_text(model, generate_length, VOCAB_SIZE, ix_to_char))"
   ]
  },
  {
   "cell_type": "markdown",
   "metadata": {},
   "source": [
    "OK, that's really bad. Now we train..."
   ]
  },
  {
   "cell_type": "code",
   "execution_count": null,
   "metadata": {
    "collapsed": false
   },
   "outputs": [
    {
     "name": "stdout",
     "output_type": "stream",
     "text": [
      "\n",
      "\n",
      "Epoch: 0\n",
      "\n"
     ]
    },
    {
     "name": "stderr",
     "output_type": "stream",
     "text": [
      "/usr/local/lib/python2.7/dist-packages/keras/models.py:826: UserWarning: The `nb_epoch` argument in `fit` has been renamed `epochs`.\n",
      "  warnings.warn('The `nb_epoch` argument in `fit` '\n"
     ]
    },
    {
     "name": "stdout",
     "output_type": "stream",
     "text": [
      "Epoch 1/1\n",
      "5/5 [==============================] - 0s - loss: 3.5845\n",
      "p                                                                                                                                                                                                                                                                                                                                                                                                                                                                                                                                                                                                                                                                                                                                                                                                                                                                                                                                                                                                                                       \n",
      "\n",
      "Epoch: 1\n",
      "\n",
      "Epoch 1/1\n",
      "5/5 [==============================] - 0s - loss: 3.4670\n",
      "u                                                                                                                                                                                                                                                                                                                                                                                                                                                                                                                                                                                                                                                                                                                                                                                                                                                                                                                                                                                                                                       \n",
      "\n",
      "Epoch: 2\n",
      "\n",
      "Epoch 1/1\n",
      "5/5 [==============================] - 0s - loss: 6.5432\n",
      "g   h h a a e e e e e e e h h h a e e e e h h h h a e e e h h h h a e e e h h h h a e e e h h h h a e e e h h h h a e e e h h h h a e e e h h h h a e e e h h h h a e e e h h h h a e e e h h h h a e e e h h h h a e e e h h h h a e e e h h h h a e e e h h h h a e e e h h h h a e e e h h h h a e e e h h h h a e e e h h h h a e e e h h h h a e e e h h h h a e e e h h h h a e e e h h h h a e e e h h h h a e e e h h h h a e e e h h h h a e e e h h h h a e e e h h h h a e e e h h h h a e e e h h h h a e e e h h h h a e e e h h h h a e e e h h h h a e e e h h h h a e e e h h h h a e e e h h h h a e e e h h h h a e e e h h h h a e e e h h h h a e e e h h h h a e e e h h h h a e e e h h h h a e e e h h h h a e e e h h h h a e e e h h h h a e e e h h h h a e e e h h h h a e e e h h h h a e e e h h h h a e e e h h h h a e e e h h h h a e e e h h h h a e e e h h h h a e e e h h h h a e e e h h h h a e e e h h h h a e e e h h h h a e e e h h h h a e e e h h h h a e e e h h h h a e e e h h h h a e e \n",
      "\n",
      "Epoch: 3\n",
      "\n",
      "Epoch 1/1\n",
      "5/5 [==============================] - 0s - loss: 3.4361\n",
      "d   e   e e e e e e e e e e e e e e e e e e e e e e e e e e e e e e e e e e e e e e e e e e e e e e e e e e e e e e e e e e e e e e e e e e e e e e e e e e e e e e e e e e e e e e e e e e e e e e e e e e e e e e e e e e e e e e e e e e e e e e e e e e e e e e e e e e e e e e e e e e e e e e e e e e e e e e e e e e e e e e e e e e e e e e e e e e e e e e e e e e e e e e e e e e e e e e e e e e e e e e e e e e e e e e e e e e e e e e e e e e e e e e e e e e e e e e e e e e e e e e e e e e e e e e e e e e e e e e e e e e e e e e e e e e e e e e e e e e e e e e e e e e e e e e e e e e e e e e e e e e e e e e e e e e e e e e e e e e e e e e e e e e e e e e e e e e e e e e e e e e e e e e e e e e e e e e e e e e e e e e e e e e e e e e e e e e e e e e e e e e e e e e e e e e e e e e e e e e e e e e e e e e e e e e e e e e e e e e e e e e e e e e e e e e e e e e e e e e e e e e e e e e e e e e e e e e e e e e e e e e e e e e e e e e e e e e e e e e e e e e e e e e e e e e e e e e e e e e e e \n",
      "\n",
      "Epoch: 4\n",
      "\n",
      "Epoch 1/1\n",
      "5/5 [==============================] - 0s - loss: 3.3417\n",
      "T                                                                                                                                                                                                                                                                                                                                                                                                                                                                                                                                                                                                                                                                                                                                                                                                                                                                                                                                                                                                                                       \n",
      "\n",
      "Epoch: 5\n",
      "\n",
      "Epoch 1/1\n",
      "5/5 [==============================] - 0s - loss: 3.1777\n",
      "T                 a       a                           a                     a                     a                     a                     a                     a                     a                     a                     a                     a                     a                     a                     a                     a                     a                     a                     a                     a                     a                     a                     a                     a                     a                     a                     a                     a                     a                     a                     a                     a                     a                     a                     a                     a                     a                     a                     a                     a                     a                     a                     a                     a                     a                     \n",
      "\n",
      "Epoch: 6\n",
      "\n",
      "Epoch 1/1\n",
      "5/5 [==============================] - 0s - loss: 3.0685\n",
      "y                                                                                                                                                                                                                                                                                                                                                                                                                                                                                                                                                                                                                                                                                                                                                                                                                                                                                                                                                                                                                                       \n",
      "\n",
      "Epoch: 7\n",
      "\n",
      "Epoch 1/1\n",
      "5/5 [==============================] - 0s - loss: 3.0594\n",
      "A     h           h       h   h h h   h h h   h h h h   h h h h h   h h h h h   h h h h h   h h h h h   h h h h h   h h h h h   h h h h h   h h h h h   h h h h h   h h h h h   h h h h h   h h h h h   h h h h h   h h h h h   h h h h h   h h h h h   h h h h h   h h h h h   h h h h h   h h h h h   h h h h h   h h h h h   h h h h h   h h h h h   h h h h h   h h h h h   h h h h h   h h h h h   h h h h h   h h h h h   h h h h h   h h h h h   h h h h h   h h h h h   h h h h h   h h h h h   h h h h h   h h h h h   h h h h h   h h h h h   h h h h h   h h h h h   h h h h h   h h h h h   h h h h h   h h h h h   h h h h h   h h h h h   h h h h h   h h h h h   h h h h h   h h h h h   h h h h h   h h h h h   h h h h h   h h h h h   h h h h h   h h h h h   h h h h h   h h h h h   h h h h h   h h h h h   h h h h h   h h h h h   h h h h h   h h h h h   h h h h h   h h h h h   h h h h h   h h h h h   h h h h h   h h h h h   h h h h h   h h h h h   h h h h h   h h h h h   h h h h h   h h h h h   h h h h \n",
      "\n",
      "Epoch: 8\n",
      "\n",
      "Epoch 1/1\n",
      "5/5 [==============================] - 0s - loss: 3.0488\n",
      "y                                                                                                                                                                                                                                                                                                                                                                                                                                                                                                                                                                                                                                                                                                                                                                                                                                                                                                                                                                                                                                       \n",
      "\n",
      "Epoch: 9\n",
      "\n",
      "Epoch 1/1\n",
      "5/5 [==============================] - 0s - loss: 3.0196\n",
      "\"     e                                                                                                                                                                                                                                                                                                                                                                                                                                                                                                                                                                                                                                                                                                                                                                                                                                                                                                                                                                                                                                 \n",
      "\n",
      "Epoch: 10\n",
      "\n",
      "Epoch 1/1\n",
      "5/5 [==============================] - 0s - loss: 3.0048\n",
      "v                                                                                                                                                                                                                                                                                                                                                                                                                                                                                                                                                                                                                                                                                                                                                                                                                                                                                                                                                                                                                                       \n",
      "\n",
      "Epoch: 11\n",
      "\n",
      "Epoch 1/1\n",
      "5/5 [==============================] - 0s - loss: 2.9901\n",
      "s       e                                                                                                                                                                                                                                                                                                                                                                                                                                                                                                                                                                                                                                                                                                                                                                                                                                                                                                                                                                                                                               \n",
      "\n",
      "Epoch: 12\n",
      "\n",
      "Epoch 1/1\n",
      "5/5 [==============================] - 0s - loss: 2.9750\n",
      "S                                                                                                                                                                                                                                                                                                                                                                                                                                                                                                                                                                                                                                                                                                                                                                                                                                                                                                                                                                                                                                       \n",
      "\n",
      "Epoch: 13\n",
      "\n",
      "Epoch 1/1\n",
      "5/5 [==============================] - 0s - loss: 2.9656\n",
      "w   a e     e e                                                                                                                                                                                                                                                                                                                                                                                                                                                                                                                                                                                                                                                                                                                                                                                                                                                                                                                                                                                                                         \n",
      "\n",
      "Epoch: 14\n",
      "\n",
      "Epoch 1/1\n",
      "5/5 [==============================] - 0s - loss: 2.9605\n",
      "b t e                                                                                                                                                                                                                                                                                                                                                                                                                                                                                                                                                                                                                                                                                                                                                                                                                                                                                                                                                                                                                                   \n",
      "\n",
      "Epoch: 15\n",
      "\n",
      "Epoch 1/1\n",
      "5/5 [==============================] - 0s - loss: 2.9513\n",
      "u       e e   e e                                                                                                                                                                                                                                                                                                                                                                                                                                                                                                                                                                                                                                                                                                                                                                                                                                                                                                                                                                                                                       \n",
      "\n",
      "Epoch: 16\n",
      "\n",
      "Epoch 1/1\n",
      "5/5 [==============================] - 0s - loss: 2.9585\n",
      ",     e   e   e t t e                                                                                                                                                                                                                                                                                                                                                                                                                                                                                                                                                                                                                                                                                                                                                                                                                                                                                                                                                                                                                   \n",
      "\n",
      "Epoch: 17\n",
      "\n",
      "Epoch 1/1\n",
      "5/5 [==============================] - 0s - loss: 2.9777\n",
      "A                                                                                                                                                                                                                                                                                                                                                                                                                                                                                                                                                                                                                                                                                                                                                                                                                                                                                                                                                                                                                                       \n",
      "\n",
      "Epoch: 18\n",
      "\n",
      "Epoch 1/1\n",
      "5/5 [==============================] - 0s - loss: 3.0347\n",
      "o   h a   e e   e                                                                                                                                                                                                                                                                                                                                                                                                                                                                                                                                                                                                                                                                                                                                                                                                                                                                                                                                                                                                                       \n",
      "\n",
      "Epoch: 19\n",
      "\n",
      "Epoch 1/1\n",
      "5/5 [==============================] - 0s - loss: 2.9412\n",
      "H   e                                                                                                                                               o o o o o o o w w w w w w w w a a a a a a a a a a a                                         o o o o o o o u u u w w w w w w w w w w w , , , , S S S S S p p p e e e e                                   o o o o o o u u u w w w w w w w w w w w w , , , , S S S S p p p e e e e                                     o o o o o o u u w w w w w w w w w w w w , , , , S S S S p p p e e e e                                     o o o o o o u u u w w w w w w w w w w w , , , , S S S S S p p p e e e e                                   o o o o o o u u u w w w w w w w w w w w w , , , S S S S S p p p e e e e                                   o o o o o o u u u w w w w w w w w w w w w , , , , S S S S p p p e e e e                                     o o o o o o u u w w w w w w w w w w w w , , , , S S S S p p p e e e e                                     o o o o o o \n",
      "\n",
      "Epoch: 20\n",
      "\n",
      "Epoch 1/1\n",
      "5/5 [==============================] - 0s - loss: 2.8815\n",
      "u         e                                                                                                                                                                                                                                                                                                                                                                                                                                                                                                                                                                                                                                                                                                                                                                                                                                                                                                                                                                                                                             \n",
      "\n",
      "Epoch: 21\n",
      "\n",
      "Epoch 1/1\n",
      "5/5 [==============================] - 0s - loss: 2.9332\n",
      "e       e     e                                                                                                                                                                                                                                                                                                                                                                                                                                                                                                                                                                                                                                                                                                                                                                                                                                                                                                                                                                                                                         \n",
      "\n",
      "Epoch: 22\n",
      "\n",
      "Epoch 1/1\n",
      "5/5 [==============================] - 0s - loss: 2.8867\n",
      "A   h a     e                                                                                   s s s s s s s s s s s s s s s s s s s s s s s s s s s s s s s s s s s s s s s s s s s s s s s s s s s s s s s s s s s s s s s s s s s s s s s s s s s s s s s s s s s s s s s s s s s s s s s s s s s s s s s s s s s s s s s s s s s s s s s s s s s s s s s s s s s s s s s s s s s s s s s s s s s s s s s s s s s s s s s s s s s s s s s s s s s s s s s s s s s s s s s s s s s s s s s s s s s s s s s s s s s s s s s s s s s s s s s s s s s s s s s s s s s s s s s s s s s s s s s s s s s s s s s s s s s s s s s s s s s s s s s s s s s s s s s s s s s s s s s s s s s s s s s s s s s s s s s s s s s s s s s s s s s s s s s s s s s s s s s s s s s s s s s s s s s s s s s s s s s s s s s s s s s s s s s s s s s s s s s s s s s s s s s s s s s s s s s s s s s s s s s s s s s s s s s s s s s s s s s s s s s s s s s s s s s s s s s s s s s s s s s s s s s s s s s s s s s s s s s s s s s s s s s s s s s s \n",
      "\n",
      "Epoch: 23\n",
      "\n",
      "Epoch 1/1\n",
      "5/5 [==============================] - 0s - loss: 2.8645\n",
      "  e     e                                                                                                                                                                                                                                                                                                                                                                                                                                                                                                                                                                                                                                                                                                                                                                                                                                                                                                                                                                                                                               \n",
      "\n",
      "Epoch: 24\n",
      "\n",
      "Epoch 1/1\n",
      "5/5 [==============================] - 0s - loss: 2.8933\n",
      "r   e   e   t t t t t t t t t t t t t t t t t t e e e e e e e e e e e e e                                     h h h h h   h h a a a a a a a a a a a a a a t t e e e e e e e e e e e e e e e e e                                     h h h h h h h   a a a a a a a a a a a a a a t t e e e e e e e e e e e e e e e e e                                       h h h h h h h a a a a a a a a a a a a a a t t e e e e e e e e e e e e e e e e e                                       h h h h h h h a a a a a a a a a a a a a a t t e e e e e e e e e e e e e e e e e                                       h h h h h h h   a a a a a a a a a a a a a a t e e e e e e e e e e e e e e e e e e                                     h h h h h h h   a a a a a a a a a a a a a a t e e e e e e e e e e e e e e e e e e                                     h h h h h h h   a a a a a a a a a a a a a a t t e e e e e e e e e e e e e e e e e                                       h h h h h h h a a a a a a a a a a a a a a t t e e e e e e e \n",
      "\n",
      "Epoch: 25\n",
      "\n",
      "Epoch 1/1\n",
      "5/5 [==============================] - 0s - loss: 2.9043\n",
      "r   e                                                                                                                                                                                                                                                                                             s                                           s                                           s                                             s                                             s   s                                       s   s                                         s   s                                         s s                                           s s                                         s s                                           s s                                           s s                                           s s                                         s   s                                         s s                                           s s                           \n",
      "\n",
      "Epoch: 26\n",
      "\n",
      "Epoch 1/1\n",
      "5/5 [==============================] - 0s - loss: 2.9937\n",
      "C a   e                                                                                                                                                                                                                                                                                                                                                                                                                                                                                                                                                                                                                                                                                                                                                                                                                                                                                                                                                                                                                                 \n",
      "\n",
      "Epoch: 27\n",
      "\n",
      "Epoch 1/1\n",
      "5/5 [==============================] - 0s - loss: 2.9168\n",
      "v e                                                                                                                                                                                                                                                                                                                                                                                                                                                                                                                                                                                                                                                                                                                                                                                                                                                                                                                                                                                                                                     \n",
      "\n",
      "Epoch: 28\n",
      "\n",
      "Epoch 1/1\n",
      "5/5 [==============================] - 0s - loss: 2.8777\n",
      "S   e                 a                                                                                                                                                                                                                                                                                                                                                                                                                                                                                                                                                                                                                                                                                                                                                                                                                                                                                                                                                                                                                 \n",
      "\n",
      "Epoch: 29\n",
      "\n",
      "Epoch 1/1\n",
      "5/5 [==============================] - 0s - loss: 2.8486\n",
      "a e       e                                                                                                                                                                                                                                                                                                                                                                                                                                                                                                                                                                                                                                                                                                                                                                                                                                                                                                                                                                                                                             \n",
      "\n",
      "Epoch: 30\n",
      "\n",
      "Epoch 1/1\n",
      "5/5 [==============================] - 0s - loss: 2.8408\n",
      "H e       e       t t t t t t t a a a                                   a a   a   t t t t t t t t t t t t t t                                       t t t t t t t t t t t t t t t t t t t t                                     t t t t t t t t t t t t t t t t t t t t                                     t t t t t t t t t t t t t t t t t t t t                                     t t t t t t t t t t t t t t t t t t t t                                     t t t t t t t t t t t t t t t t t t t t                                     t t t t t t t t t t t t t t t t t t t t                                     t t t t t t t t t t t t t t t t t t t t                                     t t t t t t t t t t t t t t t t t t t t                                     t t t t t t t t t t t t t t t t t t t t                                     t t t t t t t t t t t t t t t t t t t t                                     t t t t t t t t t t t t t t t t t t t t                                     t t t t t t t t \n",
      "\n",
      "Epoch: 31\n",
      "\n",
      "Epoch 1/1\n",
      "5/5 [==============================] - 0s - loss: 2.8337\n",
      "e       e e                                                                                                                                                                                                                                                                                                                                                                                                                                                                                                                                                                                                                                                                                                                                                                                                                                                                                                                                                                                                                             \n",
      "\n",
      "Epoch: 32\n",
      "\n",
      "Epoch 1/1\n",
      "5/5 [==============================] - 0s - loss: 2.8489\n",
      "n     e e     e   e   e       e                                               e         e             e                                             e       e           e                                           e       e       e                                                 e     e     e                                                   e     e     e       e               n                             e   e     e   e             n   n                               e e     e e     e           n n   n                             e e   e e   e   e           n n n   n                             e e e e e   e     e       n n n n                               e e e e   e e   e         n n n n n                               e e e e e e     e       n n n n n   n                           e e e e e e   e         n n n n n n                               e e e e e e e           n n n n n n                             e e e e e e   e         n n n n n n n                             e e e e \n",
      "\n",
      "Epoch: 33\n",
      "\n",
      "Epoch 1/1\n",
      "5/5 [==============================] - 0s - loss: 2.7714\n",
      "r   e     e   t t t t t t t t t t t t         r     y y y y y y y y y y y y y y y l l l l w w w w w w w w w w w w w w w w w w w w w w w a a a a a a a a                               o o o o o o o o o o o       w w w w w w w w w w w w w w w w w w w w w w w w w w w w w w w w w w w w w w w w a a a a a a a a                                 o o o o o o o o o o o       w w w w w w w w w w w w w w w w w w w w w w w w w w w w w w w w w w w w w w w w a a a a a a a a                                 o o o o o o o o o o o       w w w w w w w w w w w w w w w w w w w w w w w w w w w w w w w w w w w w w w w w a a a a a a a a                                 o o o o o o o o o o o       w w w w w w w w w w w w w w w w w w w w w w w w w w w w w w w w w w w w w w w w a a a a a a a a                                 o o o o o o o o o o o       w w w w w w w w w w w w w w w w w w w w w w w w w w w w w w w w w w w w w w w w a a a a a a a a                                 o o o o o o o o o o o       w w w w w \n",
      "\n",
      "Epoch: 34\n",
      "\n",
      "Epoch 1/1\n",
      "5/5 [==============================] - 0s - loss: 2.8797\n",
      "E   e               a   a                                                                                                                                                                                                                                                                                                                                                                                                                                                                                                                                                                                                                                                                                                                                                                                                                                                                                                                                                                                                               \n",
      "\n",
      "Epoch: 35\n",
      "\n",
      "Epoch 1/1\n",
      "5/5 [==============================] - 0s - loss: 2.8564\n",
      "'     e   e   e e   e t e e t e r r e   e     e   e     e       e     e     e     e     e     e       e         e       e         e       e         e         e         e           e           e           e               e               e                 e                   e                     e                     e                     e                     e                     e                     e                     e                     e                     e                     e                     e                     e                     e                     e                     e                     e                     e                     e                     e                     e                     e                     e                     e                     e                     e                     e                     e                     e                     e                     e                     e                     e                     \n",
      "\n",
      "Epoch: 36\n",
      "\n",
      "Epoch 1/1\n",
      "5/5 [==============================] - 0s - loss: 2.7820\n",
      "m   e                                                                                                                                                                                                                                                                                                                                                                                                                                                                                                                                                                                                                                                                                                                                                                                                                                                                                                                                                                                                                                   \n",
      "\n",
      "Epoch: 37\n",
      "\n",
      "Epoch 1/1\n",
      "5/5 [==============================] - 0s - loss: 2.8046\n",
      "W e       e     e   t t   r r r                                                                                                                           a       e                                                   a a a   e                               o o                 a a a a a a e e e                     o o o o o o       h h     a a a a a a a a e e e e                 o o o o o o o o   h h h     a a a a a a a a a e e e i                 o o o o o o o o   h h h h     a a a a a a a a a e e i i               o o o o o o o o o   h h h h   a a a a a a a a a e e i i i               o o o o o o o o   h h h h     a a a a a a a a a e e i i                 o o o o o o o o   h h h h     a a a a a a a a a e e i i               o o o o o o o o o   h h h h     a a a a a a a a a e e i i               o o o o o o o o o   h h h h     a a a a a a a a a e e i i               o o o o o o o o o   h h h h     a a a a a a a a a e e i i               o o o o o o o o o   h h h h     a a a a a a a a a e \n",
      "\n",
      "Epoch: 38\n",
      "\n",
      "Epoch 1/1\n",
      "5/5 [==============================] - 0s - loss: 2.6889\n",
      "a e         e       t t                                                                                                                                                                                                                                                                                                                                                                                                                                                                                                                                                                                                                                                                                                                                                                                                                                                                                                                                                                                                                 \n",
      "\n",
      "Epoch: 39\n",
      "\n",
      "Epoch 1/1\n",
      "5/5 [==============================] - 0s - loss: 2.6407\n",
      "\" c c c c e e e       e r r r r r r r             o o o o o o o o o       h h a a a a a a a a e e e e           o o o o o o o o o o o o h h h h h a a a a a a a a i i i i i s s n n n   o o o o o o o o o o o o h h h h h h a a a a a a a a i i i i i i s n n n n o o o o o o o o o o o o o h h h h h h a a a a a a a a i i i i i i s n n n n o o o o o o o o o o o o h h h h h h a a a a a a a a a i i i i i s n n n n o o o o o o o o o o o o o h h h h h h a a a a a a a a i i i i i i s n n n n o o o o o o o o o o o o h h h h h h a a a a a a a a a i i i i i s n n n n o o o o o o o o o o o o o h h h h h h a a a a a a a a i i i i i i s n n n n o o o o o o o o o o o o h h h h h h a a a a a a a a a i i i i i s n n n n o o o o o o o o o o o o o h h h h h h a a a a a a a a i i i i i i s n n n n o o o o o o o o o o o o h h h h h h a a a a a a a a a i i i i i s n n n n o o o o o o o o o o o o o h h h h h h a a a a a a a a i i i i i i s n n n n o o o o o o o o o o o o h h h h h h a a a a a a a a a i i i i i s \n",
      "\n",
      "Epoch: 40\n",
      "\n",
      "Epoch 1/1\n",
      "5/5 [==============================] - 0s - loss: 2.6158\n",
      "\" c c c c e e                                               i i i i                                     i i i i i i i s s s                               i i i i i i i i i s s s                               i i i i i i i i i i s s                                 i i i i i i i i i s s s                               i i i i i i i i i i s s                                 i i i i i i i i i s s s                               i i i i i i i i i i s s                                 i i i i i i i i i s s s                               i i i i i i i i i i s s                               i i i i i i i i i i s s                                 i i i i i i i i i s s s                               i i i i i i i i i i s s                                 i i i i i i i i i s s s                               i i i i i i i i i i s s                                 i i i i i i i i i s s s                               i i i i i i i i i i s s                                 i i i i i i i i i s s \n",
      "\n",
      "Epoch: 41\n",
      "\n",
      "Epoch 1/1\n",
      "5/5 [==============================] - 0s - loss: 2.8397\n",
      "S c c c c c c c c c c c c c c c c c c c c r r r r r e   e   e   e e   e e e   e e   e e   e e   e   e e     e   e     e     e       e                                                                         s                                                                                                                                                                                                                                                                                                                                                                                                                                                                                                                                                                                                                                                                                                                                                                                                                         \n",
      "\n",
      "Epoch: 42\n",
      "\n",
      "Epoch 1/1\n",
      "5/5 [==============================] - 0s - loss: 2.7246\n",
      "u     h e         t t                                                                                                                                                                                                                                                                                                                                                                                                                                                                                                                                                                                                                                                                                                                                                                                                                                                                                                                                                                                                                   \n",
      "\n",
      "Epoch: 43\n",
      "\n",
      "Epoch 1/1\n",
      "5/5 [==============================] - 0s - loss: 2.7754\n",
      "k   e   t t t t t t t t t t t t t t t t t t t t t t t t t t e e e e e t t t e e t t t e t e t t t e t t t t e t t t e t t e t e t t e t e t t e t e t t e t t e t e t t t e e t t t t e e t t t t e t e t t t t e e t t t t t e t t e t t t t e t t t e t t t t e t t t e t t t t e t t t t e t t t t e t t t t e t t t t e t t t t e t t t t e t t t t e t t t t t e t t t e t t t t t e t t t t e t t t t e t t t t t e t t t t e t t t t e t t t t t e t t t t e t t t t e t t t t t e t t t t e t t t t e t t t t t e t t t t e t t t t e t t t t t e t t t t e t t t t e t t t t t e t t t t e t t t t e t t t t t e t t t t e t t t t e t t t t t e t t t t e t t t t e t t t t t e t t t t e t t t t e t t t t t e t t t t e t t t t e t t t t t e t t t t e t t t t e t t t t t e t t t t e t t t t e t t t t t e t t t t e t t t t e t t t t t e t t t t e t t t t e t t t t t e t t t t e t t t t e t t t t t e t t t t e t t t t e t t t t t e t t t t e t t t t e t t t t t e t t t t e t t t t e t t t t t e t t t t e t t \n",
      "\n",
      "Epoch: 44\n",
      "\n",
      "Epoch 1/1\n",
      "5/5 [==============================] - 0s - loss: 2.7625\n",
      "H e       e             a                                               i       i             i                                             i         i       i                                                     i       i       i           s                                           i       i       i         s                                             i       i     i         s                                               i     i       i       i                                                   i     i       i         s                                             i       i     i         i                                                 i       i     i         s                                               i     i       i       i                                                   i     i       i       i                                                   i     i       i       s                                               i       i     i         i                                       \n",
      "\n",
      "Epoch: 45\n",
      "\n",
      "Epoch 1/1\n",
      "5/5 [==============================] - 0s - loss: 2.7886\n",
      "b t e       e       a a                                               a a a a a                                             a a a     a                                     a       a     a             a                     a         a           a             a               a           a             a             a           a               a           a             a             a             a           a               a           a             a             a             a           a               a           a             a             a             a           a               a           a             a             a             a           a               a           a             a             a             a           a               a           a             a             a             a           a               a           a             a             a             a           a               a           a             a             a             a           a               a \n",
      "\n",
      "Epoch: 46\n",
      "\n",
      "Epoch 1/1\n",
      "5/5 [==============================] - 0s - loss: 2.6602\n",
      "v e         e     h r r r r r     n n   n o o o o o o o h h h h h h   a a a i i i i i i s s s s s s n n n n n n o o o o o o h h h h h h h h i i i i i i i i i i s s s s s s s s s n n n n n n n o o o o h h h h h h h h i i i i i i i i i s s s s s s s s s s n n n n n n n o o o o h h h h h h h h i i i i i i i i i s s s s s s s s i s n n n n n n n o o o o h h h h h h h h i i i i i i i i i s s s i s s s i s i n n n n n n n o o o o h h h h h h h h i i i i i i i i i s i i s s i s s i s i i n n n n n n o o o o h h h h h h h h i i i i i i i i i i i i s s s i i s i i i i n n n n n o o o o h h h h h h h i i i i i i i i i i i i i i s i s i i i i i i     n n n n o o o o h h h h h h i i i i i i i i i i i i i i i i s s i i i i i i   n n n n o o o o o h h h h h h i i i i i i i i i i i i i i i i s i s i i i i i   n n n n o o o o o h h h h h h i i i i i i i i i i i i i i i i s i s i i i i i i   n n n n o o o o o h h h h h i i i i i i i i i i i i i i i i i s s i i i i i i   n n n n o o o o o h h h h h h i \n",
      "\n",
      "Epoch: 47\n",
      "\n",
      "Epoch 1/1\n",
      "5/5 [==============================] - 0s - loss: 2.6140\n",
      "r e       e       e     a                                                                                                                                                                                                                                                                                                                                                                                                                                                                                                                                                                                                                                                                                                                                                                                                                                                                                                                                                                                                               \n",
      "\n",
      "Epoch: 48\n",
      "\n",
      "Epoch 1/1\n",
      "5/5 [==============================] - 0s - loss: 2.5635\n",
      "l p p p p p         i i i i i i i i i i i i i s i i n n n n n o o o o o o h h h h h a a a a i i i i i s s s s s s n n n n n o o o o o o o h h h h h h a a a i i i i i i i i s s s s s s n n n n n n o o o o o h h h h h h a a i i i i i i i i i s s s s s s n n n n n n o o o o o h h h h h h"
     ]
    }
   ],
   "source": [
    "nb_epoch = 0\n",
    "batch_size = 50\n",
    "\n",
    "while True:\n",
    "    print('\\n\\nEpoch: {}\\n'.format(nb_epoch))\n",
    "    model.fit(X, y, batch_size=batch_size, verbose=1, nb_epoch=1)\n",
    "    nb_epoch += 1\n",
    "    generate_text(model, generate_length, VOCAB_SIZE, ix_to_char)\n",
    "    if nb_epoch % 10 == 0:\n",
    "        model.save_weights('checkpoint_layer_{}_hidden_{}_epoch_{}.hdf5'.format(layer_num, hidden_dim, nb_epoch))"
   ]
  }
 ],
 "metadata": {
  "kernelspec": {
   "display_name": "Python 2",
   "language": "python",
   "name": "python2"
  },
  "language_info": {
   "codemirror_mode": {
    "name": "ipython",
    "version": 2
   },
   "file_extension": ".py",
   "mimetype": "text/x-python",
   "name": "python",
   "nbconvert_exporter": "python",
   "pygments_lexer": "ipython2",
   "version": "2.7.13"
  }
 },
 "nbformat": 4,
 "nbformat_minor": 2
}
